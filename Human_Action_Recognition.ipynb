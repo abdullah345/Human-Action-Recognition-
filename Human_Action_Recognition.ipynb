{
  "nbformat": 4,
  "nbformat_minor": 0,
  "metadata": {
    "colab": {
      "name": "Human Action Recognition.ipynb",
      "provenance": [],
      "include_colab_link": true
    },
    "kernelspec": {
      "name": "python3",
      "display_name": "Python 3"
    }
  },
  "cells": [
    {
      "cell_type": "markdown",
      "metadata": {
        "id": "view-in-github",
        "colab_type": "text"
      },
      "source": [
        "<a href=\"https://colab.research.google.com/github/abdullah345/Human-Action-Recognition-/blob/master/Human_Action_Recognition.ipynb\" target=\"_parent\"><img src=\"https://colab.research.google.com/assets/colab-badge.svg\" alt=\"Open In Colab\"/></a>"
      ]
    },
    {
      "cell_type": "markdown",
      "metadata": {
        "id": "0JEFWufsRriY",
        "colab_type": "text"
      },
      "source": [
        "#Human Action Recognition Using Histogram of Oriented Gradient of Motion History Image\n",
        "\n",
        "This is the Implementation of a research paper \"*Human Action Recognition Using Histogram of Oriented Gradient of Motion History Image*\" written by Chin-Pan Huang, Chaur-Heh Hsieh, Kuan-Ting Lai*, Wei-Yang Huang\n",
        "Department of Computer Communication Engineering,\n",
        "Ming Chuan University\n",
        "Taoyuan 333, Taiwan\n",
        "*Research Center for Information Technology Innovation, Academia Sinica\n",
        "National Taiwan University\n",
        "Taipei 106, Taiwan􀀡\n"
      ]
    },
    {
      "cell_type": "markdown",
      "metadata": {
        "id": "MavOOpNFVJfi",
        "colab_type": "text"
      },
      "source": [
        "\n",
        "\n"
      ]
    },
    {
      "cell_type": "code",
      "metadata": {
        "id": "D-1h6n_zPlyH",
        "colab_type": "code",
        "colab": {}
      },
      "source": [
        "import pandas as pd"
      ],
      "execution_count": 0,
      "outputs": []
    },
    {
      "cell_type": "markdown",
      "metadata": {
        "id": "Tdvjfx62NWXD",
        "colab_type": "text"
      },
      "source": [
        "##Reading Negative Data (Not Throwing Posture)"
      ]
    },
    {
      "cell_type": "code",
      "metadata": {
        "id": "4fWSPdw3grbN",
        "colab_type": "code",
        "colab": {
          "base_uri": "https://localhost:8080/",
          "height": 34
        },
        "outputId": "228259fe-4b12-42ab-accb-cd3c103ef914"
      },
      "source": [
        "data_not= pd.read_csv('img_pixels.csv',header=None)\n",
        "data_not.shape"
      ],
      "execution_count": 31,
      "outputs": [
        {
          "output_type": "execute_result",
          "data": {
            "text/plain": [
              "(337, 16384)"
            ]
          },
          "metadata": {
            "tags": []
          },
          "execution_count": 31
        }
      ]
    },
    {
      "cell_type": "markdown",
      "metadata": {
        "id": "kY5S5EcUNkPe",
        "colab_type": "text"
      },
      "source": [
        "##Reading Positive Data (Throwing Posture)"
      ]
    },
    {
      "cell_type": "code",
      "metadata": {
        "id": "9KsGbUO5xRDF",
        "colab_type": "code",
        "colab": {
          "base_uri": "https://localhost:8080/",
          "height": 34
        },
        "outputId": "f9a1aefd-4f43-4e93-f230-c2426342bce4"
      },
      "source": [
        "data_Thr= pd.read_csv('img_pixelsThrow.csv',header=None)\n",
        "data_Thr.shape"
      ],
      "execution_count": 32,
      "outputs": [
        {
          "output_type": "execute_result",
          "data": {
            "text/plain": [
              "(486, 16384)"
            ]
          },
          "metadata": {
            "tags": []
          },
          "execution_count": 32
        }
      ]
    },
    {
      "cell_type": "markdown",
      "metadata": {
        "id": "YD65iJKsNs8r",
        "colab_type": "text"
      },
      "source": [
        "##Merging both Datasets"
      ]
    },
    {
      "cell_type": "code",
      "metadata": {
        "id": "16i-j-6vgx4s",
        "colab_type": "code",
        "colab": {
          "base_uri": "https://localhost:8080/",
          "height": 34
        },
        "outputId": "91964dd6-c8a5-4d83-cf9a-34b56b0a7bc4"
      },
      "source": [
        "frames = [data_not, data_Thr]\n",
        "\n",
        "main_data = pd.concat(frames,axis=0)\n",
        "main_data.reset_index()\n",
        "main_data.shape"
      ],
      "execution_count": 34,
      "outputs": [
        {
          "output_type": "execute_result",
          "data": {
            "text/plain": [
              "(823, 16384)"
            ]
          },
          "metadata": {
            "tags": []
          },
          "execution_count": 34
        }
      ]
    },
    {
      "cell_type": "code",
      "metadata": {
        "id": "N8KBNY6zhAxR",
        "colab_type": "code",
        "colab": {}
      },
      "source": [
        "import matplotlib.pyplot as plt\n"
      ],
      "execution_count": 0,
      "outputs": []
    },
    {
      "cell_type": "markdown",
      "metadata": {
        "id": "M_9jRKRNN7TU",
        "colab_type": "text"
      },
      "source": [
        "#Creating labels\n",
        "As we have 337 images of not Throwing posture and 486 images of Throwing Posture. So In 'Y' we have represented '0' as not thorow and '1' as Throw."
      ]
    },
    {
      "cell_type": "code",
      "metadata": {
        "id": "cMqozu5MieBD",
        "colab_type": "code",
        "colab": {}
      },
      "source": [
        "import numpy as np\n",
        "Y= np.array(np.zeros((823,1)))"
      ],
      "execution_count": 0,
      "outputs": []
    },
    {
      "cell_type": "markdown",
      "metadata": {
        "id": "a6jDy26oOxWF",
        "colab_type": "text"
      },
      "source": [
        "## Putting '0' 337 times for Negative images"
      ]
    },
    {
      "cell_type": "code",
      "metadata": {
        "id": "31iw0HQsiE5i",
        "colab_type": "code",
        "colab": {}
      },
      "source": [
        " for ind in range(337):\n",
        "   Y[ind]=0"
      ],
      "execution_count": 0,
      "outputs": []
    },
    {
      "cell_type": "code",
      "metadata": {
        "id": "LaxgmpsMnF_I",
        "colab_type": "code",
        "colab": {
          "base_uri": "https://localhost:8080/",
          "height": 34
        },
        "outputId": "ba5d32cb-a29c-48e2-9ae1-a4434d3f2c1e"
      },
      "source": [
        "Y.shape"
      ],
      "execution_count": 111,
      "outputs": [
        {
          "output_type": "execute_result",
          "data": {
            "text/plain": [
              "(823, 1)"
            ]
          },
          "metadata": {
            "tags": []
          },
          "execution_count": 111
        }
      ]
    },
    {
      "cell_type": "markdown",
      "metadata": {
        "id": "qkQCKDlKPAlG",
        "colab_type": "text"
      },
      "source": [
        "Putting '1' 486 times for Positive images"
      ]
    },
    {
      "cell_type": "code",
      "metadata": {
        "id": "ofscwIVXjFTZ",
        "colab_type": "code",
        "colab": {}
      },
      "source": [
        "for ind in range(486):\n",
        "   Y[ind+337]=1"
      ],
      "execution_count": 0,
      "outputs": []
    },
    {
      "cell_type": "markdown",
      "metadata": {
        "id": "oua4nwo6PJOx",
        "colab_type": "text"
      },
      "source": [
        "#Using Suppor Vector Machine"
      ]
    },
    {
      "cell_type": "code",
      "metadata": {
        "id": "5o_XbZa_j56Z",
        "colab_type": "code",
        "colab": {}
      },
      "source": [
        "from sklearn import svm"
      ],
      "execution_count": 0,
      "outputs": []
    },
    {
      "cell_type": "code",
      "metadata": {
        "id": "BC-FV7sEmd7M",
        "colab_type": "code",
        "colab": {}
      },
      "source": [
        "Y= pd.DataFrame(Y)"
      ],
      "execution_count": 0,
      "outputs": []
    },
    {
      "cell_type": "code",
      "metadata": {
        "id": "wzdFONygmn0y",
        "colab_type": "code",
        "colab": {
          "base_uri": "https://localhost:8080/",
          "height": 204
        },
        "outputId": "97c348d7-6ae5-4139-c919-94a514430478"
      },
      "source": [
        "Y.head()"
      ],
      "execution_count": 114,
      "outputs": [
        {
          "output_type": "execute_result",
          "data": {
            "text/html": [
              "<div>\n",
              "<style scoped>\n",
              "    .dataframe tbody tr th:only-of-type {\n",
              "        vertical-align: middle;\n",
              "    }\n",
              "\n",
              "    .dataframe tbody tr th {\n",
              "        vertical-align: top;\n",
              "    }\n",
              "\n",
              "    .dataframe thead th {\n",
              "        text-align: right;\n",
              "    }\n",
              "</style>\n",
              "<table border=\"1\" class=\"dataframe\">\n",
              "  <thead>\n",
              "    <tr style=\"text-align: right;\">\n",
              "      <th></th>\n",
              "      <th>0</th>\n",
              "    </tr>\n",
              "  </thead>\n",
              "  <tbody>\n",
              "    <tr>\n",
              "      <th>0</th>\n",
              "      <td>0.0</td>\n",
              "    </tr>\n",
              "    <tr>\n",
              "      <th>1</th>\n",
              "      <td>0.0</td>\n",
              "    </tr>\n",
              "    <tr>\n",
              "      <th>2</th>\n",
              "      <td>0.0</td>\n",
              "    </tr>\n",
              "    <tr>\n",
              "      <th>3</th>\n",
              "      <td>0.0</td>\n",
              "    </tr>\n",
              "    <tr>\n",
              "      <th>4</th>\n",
              "      <td>0.0</td>\n",
              "    </tr>\n",
              "  </tbody>\n",
              "</table>\n",
              "</div>"
            ],
            "text/plain": [
              "     0\n",
              "0  0.0\n",
              "1  0.0\n",
              "2  0.0\n",
              "3  0.0\n",
              "4  0.0"
            ]
          },
          "metadata": {
            "tags": []
          },
          "execution_count": 114
        }
      ]
    },
    {
      "cell_type": "markdown",
      "metadata": {
        "id": "ITGllR2fPSta",
        "colab_type": "text"
      },
      "source": [
        "#Spliting with Test Size 40%"
      ]
    },
    {
      "cell_type": "code",
      "metadata": {
        "id": "zHzaMeO7mrG3",
        "colab_type": "code",
        "colab": {}
      },
      "source": [
        "from sklearn.model_selection import train_test_split"
      ],
      "execution_count": 0,
      "outputs": []
    },
    {
      "cell_type": "code",
      "metadata": {
        "id": "kz1uZOfm80GZ",
        "colab_type": "code",
        "colab": {}
      },
      "source": [
        "xtrain, xtest, ytrain, ytest  = train_test_split(main_data, Y, test_size=0.40, random_state=25,shuffle=True)"
      ],
      "execution_count": 0,
      "outputs": []
    },
    {
      "cell_type": "code",
      "metadata": {
        "id": "v3Yq-cq29NBT",
        "colab_type": "code",
        "colab": {}
      },
      "source": [
        "from sklearn import svm"
      ],
      "execution_count": 0,
      "outputs": []
    },
    {
      "cell_type": "code",
      "metadata": {
        "id": "C6u53KDr9DT4",
        "colab_type": "code",
        "colab": {}
      },
      "source": [
        "clf = svm.SVC(gamma='scale')"
      ],
      "execution_count": 0,
      "outputs": []
    },
    {
      "cell_type": "code",
      "metadata": {
        "id": "UfjJHLeX9JMo",
        "colab_type": "code",
        "colab": {
          "base_uri": "https://localhost:8080/",
          "height": 139
        },
        "outputId": "3bc59d63-1d13-45d6-802a-2a1682751d2f"
      },
      "source": [
        "clf.fit(xtrain,ytrain)"
      ],
      "execution_count": 116,
      "outputs": [
        {
          "output_type": "stream",
          "text": [
            "/usr/local/lib/python3.6/dist-packages/sklearn/utils/validation.py:724: DataConversionWarning: A column-vector y was passed when a 1d array was expected. Please change the shape of y to (n_samples, ), for example using ravel().\n",
            "  y = column_or_1d(y, warn=True)\n"
          ],
          "name": "stderr"
        },
        {
          "output_type": "execute_result",
          "data": {
            "text/plain": [
              "SVC(C=1.0, cache_size=200, class_weight=None, coef0=0.0,\n",
              "    decision_function_shape='ovr', degree=3, gamma='scale', kernel='rbf',\n",
              "    max_iter=-1, probability=False, random_state=None, shrinking=True,\n",
              "    tol=0.001, verbose=False)"
            ]
          },
          "metadata": {
            "tags": []
          },
          "execution_count": 116
        }
      ]
    },
    {
      "cell_type": "code",
      "metadata": {
        "id": "Wu1vsZuE9sB4",
        "colab_type": "code",
        "colab": {}
      },
      "source": [
        "pred = clf.predict(xtest)\n"
      ],
      "execution_count": 0,
      "outputs": []
    },
    {
      "cell_type": "code",
      "metadata": {
        "id": "_6CKCMVW-CHo",
        "colab_type": "code",
        "colab": {}
      },
      "source": [
        "from sklearn.metrics import accuracy_score"
      ],
      "execution_count": 0,
      "outputs": []
    },
    {
      "cell_type": "code",
      "metadata": {
        "id": "-RUN2tMy-JY_",
        "colab_type": "code",
        "colab": {
          "base_uri": "https://localhost:8080/",
          "height": 34
        },
        "outputId": "6bb7bd76-3162-472f-f400-d240aadf8a08"
      },
      "source": [
        "accuracy = accuracy_score(ytest,pred)\n",
        "print(\"Accuracy of Thorwing Posture Detection: {}\".format(accuracy))"
      ],
      "execution_count": 118,
      "outputs": [
        {
          "output_type": "stream",
          "text": [
            "Accuracy of Thorwing Posture Detection: 0.9818181818181818\n"
          ],
          "name": "stdout"
        }
      ]
    },
    {
      "cell_type": "code",
      "metadata": {
        "id": "nbAXO7uN-ShG",
        "colab_type": "code",
        "colab": {
          "base_uri": "https://localhost:8080/",
          "height": 204
        },
        "outputId": "5d9ed123-df7a-4450-939d-c825d6dca802"
      },
      "source": [
        "ytrain.tail()"
      ],
      "execution_count": 119,
      "outputs": [
        {
          "output_type": "execute_result",
          "data": {
            "text/html": [
              "<div>\n",
              "<style scoped>\n",
              "    .dataframe tbody tr th:only-of-type {\n",
              "        vertical-align: middle;\n",
              "    }\n",
              "\n",
              "    .dataframe tbody tr th {\n",
              "        vertical-align: top;\n",
              "    }\n",
              "\n",
              "    .dataframe thead th {\n",
              "        text-align: right;\n",
              "    }\n",
              "</style>\n",
              "<table border=\"1\" class=\"dataframe\">\n",
              "  <thead>\n",
              "    <tr style=\"text-align: right;\">\n",
              "      <th></th>\n",
              "      <th>0</th>\n",
              "    </tr>\n",
              "  </thead>\n",
              "  <tbody>\n",
              "    <tr>\n",
              "      <th>317</th>\n",
              "      <td>0.0</td>\n",
              "    </tr>\n",
              "    <tr>\n",
              "      <th>143</th>\n",
              "      <td>0.0</td>\n",
              "    </tr>\n",
              "    <tr>\n",
              "      <th>474</th>\n",
              "      <td>1.0</td>\n",
              "    </tr>\n",
              "    <tr>\n",
              "      <th>318</th>\n",
              "      <td>0.0</td>\n",
              "    </tr>\n",
              "    <tr>\n",
              "      <th>132</th>\n",
              "      <td>0.0</td>\n",
              "    </tr>\n",
              "  </tbody>\n",
              "</table>\n",
              "</div>"
            ],
            "text/plain": [
              "       0\n",
              "317  0.0\n",
              "143  0.0\n",
              "474  1.0\n",
              "318  0.0\n",
              "132  0.0"
            ]
          },
          "metadata": {
            "tags": []
          },
          "execution_count": 119
        }
      ]
    },
    {
      "cell_type": "code",
      "metadata": {
        "id": "L85J1BbJAVgq",
        "colab_type": "code",
        "colab": {}
      },
      "source": [
        "from sklearn.metrics import classification_report"
      ],
      "execution_count": 0,
      "outputs": []
    },
    {
      "cell_type": "code",
      "metadata": {
        "id": "_CqsDJkXAm8T",
        "colab_type": "code",
        "colab": {
          "base_uri": "https://localhost:8080/",
          "height": 170
        },
        "outputId": "eabe1bc0-6f89-4f49-81eb-222a25ab43d3"
      },
      "source": [
        "print(classification_report(ytest,pred))"
      ],
      "execution_count": 120,
      "outputs": [
        {
          "output_type": "stream",
          "text": [
            "              precision    recall  f1-score   support\n",
            "\n",
            "         0.0       0.97      0.99      0.98       134\n",
            "         1.0       0.99      0.98      0.98       196\n",
            "\n",
            "    accuracy                           0.98       330\n",
            "   macro avg       0.98      0.98      0.98       330\n",
            "weighted avg       0.98      0.98      0.98       330\n",
            "\n"
          ],
          "name": "stdout"
        }
      ]
    },
    {
      "cell_type": "markdown",
      "metadata": {
        "id": "E832rvlEcV33",
        "colab_type": "text"
      },
      "source": [
        "#Testing On Real Images"
      ]
    },
    {
      "cell_type": "code",
      "metadata": {
        "id": "o9GRIKg3B85X",
        "colab_type": "code",
        "colab": {}
      },
      "source": [
        "from PIL import Image"
      ],
      "execution_count": 0,
      "outputs": []
    },
    {
      "cell_type": "code",
      "metadata": {
        "id": "iwZ9DI5eDWPg",
        "colab_type": "code",
        "colab": {}
      },
      "source": [
        "img_file = Image.open('/content/Throw (1).png')"
      ],
      "execution_count": 0,
      "outputs": []
    },
    {
      "cell_type": "code",
      "metadata": {
        "id": "GsOksje5DpH_",
        "colab_type": "code",
        "colab": {}
      },
      "source": [
        "img_grey = img_file.convert('L')\n",
        "img_grey=img_grey.resize((128,128), Image.ANTIALIAS)"
      ],
      "execution_count": 0,
      "outputs": []
    },
    {
      "cell_type": "code",
      "metadata": {
        "id": "2TmElAL-D0Oa",
        "colab_type": "code",
        "colab": {
          "base_uri": "https://localhost:8080/",
          "height": 34
        },
        "outputId": "1f22d4a9-999e-40ff-d10a-2c3dbdc260b6"
      },
      "source": [
        "value = np.asarray(img_grey.getdata(), dtype=np.int).reshape((img_grey.size[1], img_grey.size[0]))\n",
        "value = value.flatten()\n",
        "value= value.reshape(1,-1)\n",
        "neigh.predict(value)"
      ],
      "execution_count": 178,
      "outputs": [
        {
          "output_type": "execute_result",
          "data": {
            "text/plain": [
              "array([1.])"
            ]
          },
          "metadata": {
            "tags": []
          },
          "execution_count": 178
        }
      ]
    }
  ]
}